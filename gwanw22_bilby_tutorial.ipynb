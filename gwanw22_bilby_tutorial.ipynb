{
 "cells": [
  {
   "cell_type": "markdown",
   "id": "7e32adb6",
   "metadata": {},
   "source": [
    "### GWANW 2022 Bilby tutorial\n",
    "\n",
    "This notebook walks you through configuring and running a GW parameter estimation job using the Bayesian inference package `Bilby`. This tutorial is based on this example, which looked at a different event: https://git.ligo.org/lscsoft/bilby/blob/master/examples/gw_examples/data_examples/GW150914.py"
   ]
  },
  {
   "cell_type": "markdown",
   "id": "440524f7",
   "metadata": {},
   "source": [
    "First we'll make sure we have installed the required Python packages"
   ]
  },
  {
   "cell_type": "code",
   "execution_count": 2,
   "id": "9144e5a7",
   "metadata": {},
   "outputs": [
    {
     "name": "stdout",
     "output_type": "stream",
     "text": [
      "Requirement already satisfied: matplotlib in /opt/anaconda3/envs/py39/lib/python3.9/site-packages (3.5.1)\n",
      "Requirement already satisfied: gwosc in /opt/anaconda3/envs/py39/lib/python3.9/site-packages (0.6.1)\n",
      "Requirement already satisfied: gwpy in /opt/anaconda3/envs/py39/lib/python3.9/site-packages (2.1.3)\n",
      "Requirement already satisfied: bilby in /opt/anaconda3/envs/py39/lib/python3.9/site-packages (1.1.5)\n",
      "Requirement already satisfied: ipywidgets in /opt/anaconda3/envs/py39/lib/python3.9/site-packages (7.7.1)\n",
      "Requirement already satisfied: numpy>=1.17 in /opt/anaconda3/envs/py39/lib/python3.9/site-packages (from matplotlib) (1.22.2)\n",
      "Requirement already satisfied: pillow>=6.2.0 in /opt/anaconda3/envs/py39/lib/python3.9/site-packages (from matplotlib) (7.2.0)\n",
      "Requirement already satisfied: pyparsing>=2.2.1 in /opt/anaconda3/envs/py39/lib/python3.9/site-packages (from matplotlib) (3.0.7)\n",
      "Requirement already satisfied: packaging>=20.0 in /opt/anaconda3/envs/py39/lib/python3.9/site-packages (from matplotlib) (21.3)\n",
      "Requirement already satisfied: fonttools>=4.22.0 in /opt/anaconda3/envs/py39/lib/python3.9/site-packages (from matplotlib) (4.29.1)\n",
      "Requirement already satisfied: kiwisolver>=1.0.1 in /opt/anaconda3/envs/py39/lib/python3.9/site-packages (from matplotlib) (1.3.2)\n",
      "Requirement already satisfied: cycler>=0.10 in /opt/anaconda3/envs/py39/lib/python3.9/site-packages (from matplotlib) (0.11.0)\n",
      "Requirement already satisfied: python-dateutil>=2.7 in /opt/anaconda3/envs/py39/lib/python3.9/site-packages (from matplotlib) (2.8.2)\n",
      "Requirement already satisfied: requests>=1.0.0 in /opt/anaconda3/envs/py39/lib/python3.9/site-packages (from gwosc) (2.27.1)\n",
      "Requirement already satisfied: ligo-segments>=1.0.0 in /opt/anaconda3/envs/py39/lib/python3.9/site-packages (from gwpy) (1.4.0)\n",
      "Requirement already satisfied: dqsegdb2 in /opt/anaconda3/envs/py39/lib/python3.9/site-packages (from gwpy) (1.1.1)\n",
      "Requirement already satisfied: tqdm>=4.10.0 in /opt/anaconda3/envs/py39/lib/python3.9/site-packages (from gwpy) (4.62.3)\n",
      "Requirement already satisfied: ligotimegps>=1.2.1 in /opt/anaconda3/envs/py39/lib/python3.9/site-packages (from gwpy) (2.0.1)\n",
      "Requirement already satisfied: scipy>=1.2.0 in /opt/anaconda3/envs/py39/lib/python3.9/site-packages (from gwpy) (1.8.0)\n",
      "Requirement already satisfied: gwdatafind in /opt/anaconda3/envs/py39/lib/python3.9/site-packages (from gwpy) (1.0.5)\n",
      "Requirement already satisfied: astropy>=3.0.0 in /opt/anaconda3/envs/py39/lib/python3.9/site-packages (from gwpy) (5.0.1)\n",
      "Requirement already satisfied: h5py>=2.7.0 in /opt/anaconda3/envs/py39/lib/python3.9/site-packages (from gwpy) (3.6.0)\n",
      "Requirement already satisfied: tables in /opt/anaconda3/envs/py39/lib/python3.9/site-packages (from bilby) (3.7.0)\n",
      "Requirement already satisfied: mock in /opt/anaconda3/envs/py39/lib/python3.9/site-packages (from bilby) (4.0.3)\n",
      "Requirement already satisfied: dill in /opt/anaconda3/envs/py39/lib/python3.9/site-packages (from bilby) (0.3.4)\n",
      "Requirement already satisfied: dynesty<1.1 in /opt/anaconda3/envs/py39/lib/python3.9/site-packages (from bilby) (1.0.1)\n",
      "Requirement already satisfied: corner in /opt/anaconda3/envs/py39/lib/python3.9/site-packages (from bilby) (2.2.1)\n",
      "Requirement already satisfied: attrs in /opt/anaconda3/envs/py39/lib/python3.9/site-packages (from bilby) (21.4.0)\n",
      "Requirement already satisfied: emcee in /opt/anaconda3/envs/py39/lib/python3.9/site-packages (from bilby) (0.0.0)\n",
      "Requirement already satisfied: pandas in /opt/anaconda3/envs/py39/lib/python3.9/site-packages (from bilby) (1.4.0)\n",
      "Requirement already satisfied: traitlets>=4.3.1 in /opt/anaconda3/envs/py39/lib/python3.9/site-packages (from ipywidgets) (5.1.1)\n",
      "Requirement already satisfied: ipython>=4.0.0 in /opt/anaconda3/envs/py39/lib/python3.9/site-packages (from ipywidgets) (8.0.1)\n",
      "Requirement already satisfied: widgetsnbextension~=3.6.0 in /opt/anaconda3/envs/py39/lib/python3.9/site-packages (from ipywidgets) (3.6.1)\n",
      "Requirement already satisfied: ipython-genutils~=0.2.0 in /opt/anaconda3/envs/py39/lib/python3.9/site-packages (from ipywidgets) (0.2.0)\n",
      "Requirement already satisfied: jupyterlab-widgets>=1.0.0 in /opt/anaconda3/envs/py39/lib/python3.9/site-packages (from ipywidgets) (1.1.1)\n",
      "Requirement already satisfied: ipykernel>=4.5.1 in /opt/anaconda3/envs/py39/lib/python3.9/site-packages (from ipywidgets) (6.9.0)\n",
      "Requirement already satisfied: pyerfa>=2.0 in /opt/anaconda3/envs/py39/lib/python3.9/site-packages (from astropy>=3.0.0->gwpy) (2.0.0.1)\n",
      "Requirement already satisfied: PyYAML>=3.13 in /opt/anaconda3/envs/py39/lib/python3.9/site-packages (from astropy>=3.0.0->gwpy) (6.0)\n",
      "Requirement already satisfied: six in /opt/anaconda3/envs/py39/lib/python3.9/site-packages (from dynesty<1.1->bilby) (1.16.0)\n",
      "Requirement already satisfied: matplotlib-inline<0.2.0,>=0.1.0 in /opt/anaconda3/envs/py39/lib/python3.9/site-packages (from ipykernel>=4.5.1->ipywidgets) (0.1.3)\n",
      "Requirement already satisfied: appnope in /opt/anaconda3/envs/py39/lib/python3.9/site-packages (from ipykernel>=4.5.1->ipywidgets) (0.1.2)\n",
      "Requirement already satisfied: tornado<7.0,>=4.2 in /opt/anaconda3/envs/py39/lib/python3.9/site-packages (from ipykernel>=4.5.1->ipywidgets) (6.1)\n",
      "Requirement already satisfied: jupyter-client<8.0 in /opt/anaconda3/envs/py39/lib/python3.9/site-packages (from ipykernel>=4.5.1->ipywidgets) (7.1.2)\n",
      "Requirement already satisfied: debugpy<2.0,>=1.0.0 in /opt/anaconda3/envs/py39/lib/python3.9/site-packages (from ipykernel>=4.5.1->ipywidgets) (1.5.1)\n",
      "Requirement already satisfied: nest-asyncio in /opt/anaconda3/envs/py39/lib/python3.9/site-packages (from ipykernel>=4.5.1->ipywidgets) (1.5.4)\n",
      "Requirement already satisfied: black in /opt/anaconda3/envs/py39/lib/python3.9/site-packages (from ipython>=4.0.0->ipywidgets) (22.1.0)\n",
      "Requirement already satisfied: pickleshare in /opt/anaconda3/envs/py39/lib/python3.9/site-packages (from ipython>=4.0.0->ipywidgets) (0.7.5)\n",
      "Requirement already satisfied: stack-data in /opt/anaconda3/envs/py39/lib/python3.9/site-packages (from ipython>=4.0.0->ipywidgets) (0.1.4)\n",
      "Requirement already satisfied: jedi>=0.16 in /opt/anaconda3/envs/py39/lib/python3.9/site-packages (from ipython>=4.0.0->ipywidgets) (0.18.1)\n",
      "Requirement already satisfied: setuptools>=18.5 in /opt/anaconda3/envs/py39/lib/python3.9/site-packages (from ipython>=4.0.0->ipywidgets) (58.0.4)\n",
      "Requirement already satisfied: prompt-toolkit!=3.0.0,!=3.0.1,<3.1.0,>=2.0.0 in /opt/anaconda3/envs/py39/lib/python3.9/site-packages (from ipython>=4.0.0->ipywidgets) (3.0.26)\n",
      "Requirement already satisfied: backcall in /opt/anaconda3/envs/py39/lib/python3.9/site-packages (from ipython>=4.0.0->ipywidgets) (0.2.0)\n",
      "Requirement already satisfied: pygments in /opt/anaconda3/envs/py39/lib/python3.9/site-packages (from ipython>=4.0.0->ipywidgets) (2.11.2)\n",
      "Requirement already satisfied: pexpect>4.3 in /opt/anaconda3/envs/py39/lib/python3.9/site-packages (from ipython>=4.0.0->ipywidgets) (4.8.0)\n",
      "Requirement already satisfied: decorator in /opt/anaconda3/envs/py39/lib/python3.9/site-packages (from ipython>=4.0.0->ipywidgets) (5.1.1)\n",
      "Requirement already satisfied: parso<0.9.0,>=0.8.0 in /opt/anaconda3/envs/py39/lib/python3.9/site-packages (from jedi>=0.16->ipython>=4.0.0->ipywidgets) (0.8.3)\n",
      "Requirement already satisfied: pyzmq>=13 in /opt/anaconda3/envs/py39/lib/python3.9/site-packages (from jupyter-client<8.0->ipykernel>=4.5.1->ipywidgets) (22.3.0)\n",
      "Requirement already satisfied: entrypoints in /opt/anaconda3/envs/py39/lib/python3.9/site-packages (from jupyter-client<8.0->ipykernel>=4.5.1->ipywidgets) (0.4)\n",
      "Requirement already satisfied: jupyter-core>=4.6.0 in /opt/anaconda3/envs/py39/lib/python3.9/site-packages (from jupyter-client<8.0->ipykernel>=4.5.1->ipywidgets) (4.9.1)\n",
      "Requirement already satisfied: ptyprocess>=0.5 in /opt/anaconda3/envs/py39/lib/python3.9/site-packages (from pexpect>4.3->ipython>=4.0.0->ipywidgets) (0.7.0)\n",
      "Requirement already satisfied: wcwidth in /opt/anaconda3/envs/py39/lib/python3.9/site-packages (from prompt-toolkit!=3.0.0,!=3.0.1,<3.1.0,>=2.0.0->ipython>=4.0.0->ipywidgets) (0.2.5)\n",
      "Requirement already satisfied: certifi>=2017.4.17 in /opt/anaconda3/envs/py39/lib/python3.9/site-packages (from requests>=1.0.0->gwosc) (2022.6.15)\n",
      "Requirement already satisfied: urllib3<1.27,>=1.21.1 in /opt/anaconda3/envs/py39/lib/python3.9/site-packages (from requests>=1.0.0->gwosc) (1.26.8)\n",
      "Requirement already satisfied: charset-normalizer~=2.0.0 in /opt/anaconda3/envs/py39/lib/python3.9/site-packages (from requests>=1.0.0->gwosc) (2.0.11)\n",
      "Requirement already satisfied: idna<4,>=2.5 in /opt/anaconda3/envs/py39/lib/python3.9/site-packages (from requests>=1.0.0->gwosc) (3.3)\n"
     ]
    },
    {
     "name": "stdout",
     "output_type": "stream",
     "text": [
      "Requirement already satisfied: notebook>=4.4.1 in /opt/anaconda3/envs/py39/lib/python3.9/site-packages (from widgetsnbextension~=3.6.0->ipywidgets) (6.4.8)\n",
      "Requirement already satisfied: nbformat in /opt/anaconda3/envs/py39/lib/python3.9/site-packages (from notebook>=4.4.1->widgetsnbextension~=3.6.0->ipywidgets) (5.1.3)\n",
      "Requirement already satisfied: Send2Trash>=1.8.0 in /opt/anaconda3/envs/py39/lib/python3.9/site-packages (from notebook>=4.4.1->widgetsnbextension~=3.6.0->ipywidgets) (1.8.0)\n",
      "Requirement already satisfied: argon2-cffi in /opt/anaconda3/envs/py39/lib/python3.9/site-packages (from notebook>=4.4.1->widgetsnbextension~=3.6.0->ipywidgets) (21.3.0)\n",
      "Requirement already satisfied: prometheus-client in /opt/anaconda3/envs/py39/lib/python3.9/site-packages (from notebook>=4.4.1->widgetsnbextension~=3.6.0->ipywidgets) (0.13.1)\n",
      "Requirement already satisfied: terminado>=0.8.3 in /opt/anaconda3/envs/py39/lib/python3.9/site-packages (from notebook>=4.4.1->widgetsnbextension~=3.6.0->ipywidgets) (0.13.1)\n",
      "Requirement already satisfied: nbconvert in /opt/anaconda3/envs/py39/lib/python3.9/site-packages (from notebook>=4.4.1->widgetsnbextension~=3.6.0->ipywidgets) (6.4.1)\n",
      "Requirement already satisfied: jinja2 in /opt/anaconda3/envs/py39/lib/python3.9/site-packages (from notebook>=4.4.1->widgetsnbextension~=3.6.0->ipywidgets) (3.0.3)\n",
      "Requirement already satisfied: argon2-cffi-bindings in /opt/anaconda3/envs/py39/lib/python3.9/site-packages (from argon2-cffi->notebook>=4.4.1->widgetsnbextension~=3.6.0->ipywidgets) (21.2.0)\n",
      "Requirement already satisfied: cffi>=1.0.1 in /opt/anaconda3/envs/py39/lib/python3.9/site-packages (from argon2-cffi-bindings->argon2-cffi->notebook>=4.4.1->widgetsnbextension~=3.6.0->ipywidgets) (1.14.6)\n",
      "Requirement already satisfied: pycparser in /opt/anaconda3/envs/py39/lib/python3.9/site-packages (from cffi>=1.0.1->argon2-cffi-bindings->argon2-cffi->notebook>=4.4.1->widgetsnbextension~=3.6.0->ipywidgets) (2.21)\n",
      "Requirement already satisfied: mypy-extensions>=0.4.3 in /opt/anaconda3/envs/py39/lib/python3.9/site-packages (from black->ipython>=4.0.0->ipywidgets) (0.4.3)\n",
      "Requirement already satisfied: click>=8.0.0 in /opt/anaconda3/envs/py39/lib/python3.9/site-packages (from black->ipython>=4.0.0->ipywidgets) (8.0.3)\n",
      "Requirement already satisfied: pathspec>=0.9.0 in /opt/anaconda3/envs/py39/lib/python3.9/site-packages (from black->ipython>=4.0.0->ipywidgets) (0.9.0)\n",
      "Requirement already satisfied: platformdirs>=2 in /opt/anaconda3/envs/py39/lib/python3.9/site-packages (from black->ipython>=4.0.0->ipywidgets) (2.4.1)\n",
      "Requirement already satisfied: tomli>=1.1.0 in /opt/anaconda3/envs/py39/lib/python3.9/site-packages (from black->ipython>=4.0.0->ipywidgets) (2.0.0)\n",
      "Requirement already satisfied: typing-extensions>=3.10.0.0 in /opt/anaconda3/envs/py39/lib/python3.9/site-packages (from black->ipython>=4.0.0->ipywidgets) (4.0.1)\n",
      "Requirement already satisfied: igwn-auth-utils[requests] in /opt/anaconda3/envs/py39/lib/python3.9/site-packages (from dqsegdb2->gwpy) (0.2.0)\n",
      "Requirement already satisfied: pyOpenSSL in /opt/anaconda3/envs/py39/lib/python3.9/site-packages (from gwdatafind->gwpy) (22.0.0)\n",
      "Requirement already satisfied: cryptography in /opt/anaconda3/envs/py39/lib/python3.9/site-packages (from igwn-auth-utils[requests]->dqsegdb2->gwpy) (36.0.1)\n",
      "Requirement already satisfied: scitokens>=1.5.0 in /opt/anaconda3/envs/py39/lib/python3.9/site-packages (from igwn-auth-utils[requests]->dqsegdb2->gwpy) (1.6.2)\n",
      "Requirement already satisfied: safe-netrc in /opt/anaconda3/envs/py39/lib/python3.9/site-packages (from igwn-auth-utils[requests]->dqsegdb2->gwpy) (1.0.0)\n",
      "Requirement already satisfied: PyJWT>=1.6.1 in /opt/anaconda3/envs/py39/lib/python3.9/site-packages (from scitokens>=1.5.0->igwn-auth-utils[requests]->dqsegdb2->gwpy) (2.3.0)\n",
      "Requirement already satisfied: MarkupSafe>=2.0 in /opt/anaconda3/envs/py39/lib/python3.9/site-packages (from jinja2->notebook>=4.4.1->widgetsnbextension~=3.6.0->ipywidgets) (2.0.1)\n",
      "Requirement already satisfied: testpath in /opt/anaconda3/envs/py39/lib/python3.9/site-packages (from nbconvert->notebook>=4.4.1->widgetsnbextension~=3.6.0->ipywidgets) (0.5.0)\n",
      "Requirement already satisfied: defusedxml in /opt/anaconda3/envs/py39/lib/python3.9/site-packages (from nbconvert->notebook>=4.4.1->widgetsnbextension~=3.6.0->ipywidgets) (0.7.1)\n",
      "Requirement already satisfied: pandocfilters>=1.4.1 in /opt/anaconda3/envs/py39/lib/python3.9/site-packages (from nbconvert->notebook>=4.4.1->widgetsnbextension~=3.6.0->ipywidgets) (1.5.0)\n",
      "Requirement already satisfied: mistune<2,>=0.8.1 in /opt/anaconda3/envs/py39/lib/python3.9/site-packages (from nbconvert->notebook>=4.4.1->widgetsnbextension~=3.6.0->ipywidgets) (0.8.4)\n",
      "Requirement already satisfied: nbclient<0.6.0,>=0.5.0 in /opt/anaconda3/envs/py39/lib/python3.9/site-packages (from nbconvert->notebook>=4.4.1->widgetsnbextension~=3.6.0->ipywidgets) (0.5.10)\n",
      "Requirement already satisfied: bleach in /opt/anaconda3/envs/py39/lib/python3.9/site-packages (from nbconvert->notebook>=4.4.1->widgetsnbextension~=3.6.0->ipywidgets) (4.1.0)\n",
      "Requirement already satisfied: jupyterlab-pygments in /opt/anaconda3/envs/py39/lib/python3.9/site-packages (from nbconvert->notebook>=4.4.1->widgetsnbextension~=3.6.0->ipywidgets) (0.1.2)\n",
      "Requirement already satisfied: jsonschema!=2.5.0,>=2.4 in /opt/anaconda3/envs/py39/lib/python3.9/site-packages (from nbformat->notebook>=4.4.1->widgetsnbextension~=3.6.0->ipywidgets) (4.4.0)\n",
      "Requirement already satisfied: pyrsistent!=0.17.0,!=0.17.1,!=0.17.2,>=0.14.0 in /opt/anaconda3/envs/py39/lib/python3.9/site-packages (from jsonschema!=2.5.0,>=2.4->nbformat->notebook>=4.4.1->widgetsnbextension~=3.6.0->ipywidgets) (0.18.1)\n",
      "Requirement already satisfied: webencodings in /opt/anaconda3/envs/py39/lib/python3.9/site-packages (from bleach->nbconvert->notebook>=4.4.1->widgetsnbextension~=3.6.0->ipywidgets) (0.5.1)\n",
      "Requirement already satisfied: pytz>=2020.1 in /opt/anaconda3/envs/py39/lib/python3.9/site-packages (from pandas->bilby) (2021.3)\n",
      "Requirement already satisfied: executing in /opt/anaconda3/envs/py39/lib/python3.9/site-packages (from stack-data->ipython>=4.0.0->ipywidgets) (0.8.2)\n",
      "Requirement already satisfied: asttokens in /opt/anaconda3/envs/py39/lib/python3.9/site-packages (from stack-data->ipython>=4.0.0->ipywidgets) (2.0.5)\n",
      "Requirement already satisfied: pure-eval in /opt/anaconda3/envs/py39/lib/python3.9/site-packages (from stack-data->ipython>=4.0.0->ipywidgets) (0.2.2)\n",
      "Requirement already satisfied: numexpr>=2.6.2 in /opt/anaconda3/envs/py39/lib/python3.9/site-packages (from tables->bilby) (2.8.0)\n"
     ]
    }
   ],
   "source": [
    "import sys\n",
    "!{sys.executable} -m pip install matplotlib gwosc gwpy bilby ipywidgets\n",
    "\n",
    "import math\n",
    "import matplotlib.pyplot as plt\n",
    "import bilby\n",
    "from gwpy.timeseries import TimeSeries\n",
    "from gwosc import datasets"
   ]
  },
  {
   "cell_type": "markdown",
   "id": "14994a1e",
   "metadata": {},
   "source": [
    "For this tutorial we'll analyze one of the more notable events from the last observing run (O3), GW190521. This signal originated from a binary system of two black holes with masses of approximately 85 and 65 Msun, which merged to form a 142 Msun remnant black hole."
   ]
  },
  {
   "cell_type": "code",
   "execution_count": 4,
   "id": "71d34cac",
   "metadata": {},
   "outputs": [],
   "source": [
    "# Get trigger time of the event\n",
    "trigger_time = datasets.event_gps(\"GW190521\")\n",
    "\n",
    "# Analyze 4s of data around the trigger time\n",
    "seglen = 4\n",
    "post_trigger = 2\n",
    "end_time = trigger_time + post_trigger\n",
    "start_time = end_time - seglen\n",
    "\n",
    "# Frequency band\n",
    "flow = 11\n",
    "fhigh = 512\n",
    "\n",
    "# Options for PSD calculation\n",
    "psd_seglen = 32 * seglen\n",
    "psd_end_time = start_time\n",
    "psd_start_time = start_time - psd_seglen\n",
    "roll_off = 0.2\n",
    "overlap = 0\n",
    "\n",
    "# Detector list\n",
    "detectors = [\"H1\", \"L1\", \"V1\"]"
   ]
  },
  {
   "cell_type": "markdown",
   "id": "8c71cd5b",
   "metadata": {},
   "source": [
    "Next we fetch the strain data to be analyzed. We can do this using GWPy (see Adrian's tutorial)"
   ]
  },
  {
   "cell_type": "code",
   "execution_count": 3,
   "id": "9addceca",
   "metadata": {},
   "outputs": [
    {
     "name": "stdout",
     "output_type": "stream",
     "text": [
      "Fetching data for H1\n",
      "Fetching data for L1\n",
      "Fetching data for V1\n"
     ]
    }
   ],
   "source": [
    "ifo_list = bilby.gw.detector.InterferometerList([])\n",
    "for det in detectors:\n",
    "    print(f\"Fetching data for {det}\")\n",
    "    strain_data = TimeSeries.fetch_open_data(det, start_time, end_time)\n",
    "    \n",
    "    # Insert data into bilby interferometer class\n",
    "    ifo = bilby.gw.detector.get_empty_interferometer(det)\n",
    "    ifo.strain_data.set_from_gwpy_timeseries(strain_data)\n",
    "    \n",
    "    # Calculate the PSD. There is more than one way of doing this. The method shown\n",
    "    # here involves looking at a long stretch of data before the analysis segment,\n",
    "    # splitting it into several chunks, taking the spectrum of each and averaging\n",
    "    # over all segments.\n",
    "    psd_data = TimeSeries.fetch_open_data(det, psd_start_time, psd_end_time)\n",
    "    psd_alpha = 2 * roll_off / seglen\n",
    "    psd = psd_data.psd(\n",
    "        fftlength=seglen, overlap=overlap, window=(\"tukey\", psd_alpha), method=\"median\")\n",
    "    \n",
    "    # Assign the PSD to the detector\n",
    "    ifo.power_spectral_density = bilby.gw.detector.PowerSpectralDensity(\n",
    "        frequency_array=psd.frequencies.value, psd_array=psd.value)\n",
    "    \n",
    "    ifo.maximum_frequency = fhigh\n",
    "    ifo.minimum_frequency = flow\n",
    "    ifo_list.append(ifo)"
   ]
  },
  {
   "cell_type": "markdown",
   "id": "57477e43",
   "metadata": {},
   "source": [
    "Set the priors. `Bilby` includes several prior distributions that we can use, or we can also define our own.\n",
    "\n",
    "For this example, we first load the default BBH priors, and then tailor the ranges to this particular event. In the interest of time, we will run a \"minimal\" example by fixing most of the parameters and sampling in just a few, but in actual analyses we usually allow all parameters to float."
   ]
  },
  {
   "cell_type": "code",
   "execution_count": 4,
   "id": "45b0e44c",
   "metadata": {},
   "outputs": [
    {
     "name": "stderr",
     "output_type": "stream",
     "text": [
      "16:07 bilby INFO    : No prior given, using default BBH priors in /opt/anaconda3/envs/py39/lib/python3.9/site-packages/bilby/gw/prior_files/precessing_spins_bbh.prior.\n"
     ]
    }
   ],
   "source": [
    "priors = bilby.gw.prior.BBHPriorDict()\n",
    "\n",
    "# Sample in chirp mass and mass ratio with\n",
    "# priors that give uniform distributions in the component masses\n",
    "priors.pop(\"mass_1\")\n",
    "priors.pop(\"mass_2\")\n",
    "priors[\"chirp_mass\"] = bilby.gw.prior.UniformInComponentsChirpMass(\n",
    "    minimum=70, maximum=180, name=\"chirp_mass\", latex_label=r\"$\\mathcal{M}$\")\n",
    "priors[\"mass_ratio\"] = bilby.gw.prior.UniformInComponentsMassRatio(\n",
    "    minimum=0.1, maximum=1, name=\"mass_ratio\", latex_label=r\"$q$\")\n",
    "\n",
    "# Luminosity distance prior is uniform in comoving source-frame volume\n",
    "priors[\"luminosity_distance\"] = bilby.gw.prior.UniformSourceFrame(\n",
    "    minimum=1e2, maximum=1e5, name=\"luminosity_distance\", latex_label=r\"$d_L$\", unit=\"Mpc\")\n",
    "\n",
    "# Set time prior to be +/- 0.1s around the trigger time\n",
    "priors[\"geocent_time\"] = bilby.core.prior.Uniform(\n",
    "    minimum=trigger_time - 0.1, maximum=trigger_time + 0.1, name=\"geocent_time\", latex_label=r\"$t_{\\rm c}$\")\n",
    "\n",
    "# Fix the remaining parameters to some appropriate \n",
    "priors[\"a_1\"] = 0.4\n",
    "priors[\"a_2\"] = 0.42\n",
    "priors[\"tilt_1\"] = 0\n",
    "priors[\"tilt_2\"] = math.pi\n",
    "priors[\"phi_12\"] = 0\n",
    "priors[\"phi_jl\"] = 0\n",
    "priors[\"psi\"] = 3.13\n",
    "priors[\"ra\"] = 3.37\n",
    "priors[\"dec\"] = 0.46\n",
    "priors[\"theta_jn\"] = 0.93"
   ]
  },
  {
   "cell_type": "markdown",
   "id": "7802d038",
   "metadata": {},
   "source": [
    "Create the likelihood function for our analysis. The signal model is defined through the `waveform_generator` class, where we can set the approximant that will be used to reconstruct the signal. Then we pass this along with the priors defined above into a `GravitationalWaveTransient` likelihood.\n",
    "\n",
    "For this specific case, the likelihood is already marginalized over time and distance, so ultimately we search over chirp mass and mass ratio."
   ]
  },
  {
   "cell_type": "code",
   "execution_count": 5,
   "id": "6fb41ec7",
   "metadata": {},
   "outputs": [
    {
     "name": "stderr",
     "output_type": "stream",
     "text": [
      "16:07 bilby INFO    : Waveform generator initiated with\n",
      "  frequency_domain_source_model: bilby.gw.source.lal_binary_black_hole\n",
      "  time_domain_source_model: None\n",
      "  parameter_conversion: bilby.gw.conversion.convert_to_lal_binary_black_hole_parameters\n",
      "16:07 bilby INFO    : Loaded distance marginalisation lookup table from .distance_marginalization_lookup.npz.\n"
     ]
    }
   ],
   "source": [
    "waveform_generator = bilby.gw.WaveformGenerator(\n",
    "    frequency_domain_source_model=bilby.gw.source.lal_binary_black_hole,\n",
    "    parameter_conversion=bilby.gw.conversion.convert_to_lal_binary_black_hole_parameters,\n",
    "    waveform_arguments={\"waveform_approximant\": \"IMRPhenomD\",\n",
    "                        \"reference_frequency\": 20, \n",
    "                        \"minimum_frequency\": flow})\n",
    "\n",
    "likelihood = bilby.gw.likelihood.GravitationalWaveTransient(\n",
    "    ifo_list, waveform_generator, priors=priors,\n",
    "    time_marginalization=True,\n",
    "    phase_marginalization=True,\n",
    "    distance_marginalization=True)"
   ]
  },
  {
   "cell_type": "markdown",
   "id": "089312ee",
   "metadata": {},
   "source": [
    "With everything set up, we can run the analysis. There is a helpful progress bar that you can monitor. In particular, take note of `dlogz`. This is an estimate of the total remaining evidence in the parameter space, which decreases (roughly) monotonically as the run progresses. The run terminates when `dlogz` drops below some threshold (default 0.1). The run will take about 2 hours to complete on your local machine. "
   ]
  },
  {
   "cell_type": "code",
   "execution_count": 6,
   "id": "62b709f0",
   "metadata": {},
   "outputs": [
    {
     "name": "stderr",
     "output_type": "stream",
     "text": [
      "16:07 bilby INFO    : Running for label 'GW190521_minimal', output will be saved to 'GW190521_minimal'\n",
      "16:07 bilby INFO    : Using lal version 7.1.3\n",
      "16:07 bilby INFO    : Using lal git version Branch: None;Tag: lal-v7.1.3;Id: fa9914e5d72cc6168463b5fce79eeba8037404ad;;Builder: Adam Mercer <adam.mercer@ligo.org>;Repository status: CLEAN: All modifications committed\n",
      "16:07 bilby INFO    : Using lalsimulation version 3.0.0\n",
      "16:07 bilby INFO    : Using lalsimulation git version Branch: None;Tag: lalsimulation-v3.0.0;Id: e8e5ff5aa1ae2676019f59b6785f55284c417fda;;Builder: Adam Mercer <adam.mercer@ligo.org>;Repository status: CLEAN: All modifications committed\n",
      "16:07 bilby INFO    : Search parameters:\n",
      "16:07 bilby INFO    :   mass_ratio = UniformInComponentsMassRatio(minimum=0.1, maximum=1, name='mass_ratio', latex_label='$q$', unit=None, boundary=None)\n",
      "16:07 bilby INFO    :   chirp_mass = UniformInComponentsChirpMass(minimum=70, maximum=180, name='chirp_mass', latex_label='$\\\\mathcal{M}$', unit=None, boundary=None)\n",
      "16:07 bilby INFO    :   time_jitter = Uniform(minimum=-0.000244140625, maximum=0.000244140625, name='time_jitter', latex_label='$t_j$', unit=None, boundary='periodic')\n",
      "16:07 bilby INFO    :   luminosity_distance = 24193.819675251885\n",
      "16:07 bilby INFO    :   dec = 0.46\n",
      "16:07 bilby INFO    :   ra = 3.37\n",
      "16:07 bilby INFO    :   theta_jn = 0.93\n",
      "16:07 bilby INFO    :   psi = 3.13\n",
      "16:07 bilby INFO    :   phase = 0.0\n",
      "16:07 bilby INFO    :   a_1 = 0.4\n",
      "16:07 bilby INFO    :   a_2 = 0.42\n",
      "16:07 bilby INFO    :   tilt_1 = 0\n",
      "16:07 bilby INFO    :   tilt_2 = 3.141592653589793\n",
      "16:07 bilby INFO    :   phi_12 = 0\n",
      "16:07 bilby INFO    :   phi_jl = 0\n",
      "16:07 bilby INFO    :   geocent_time = 1242442965.3999023\n",
      "16:07 bilby INFO    : Generating frequency domain strain from given time domain strain.\n",
      "16:07 bilby INFO    : Applying a tukey window with alpha=0.1, roll off=0.2\n",
      "16:07 bilby INFO    : Generating frequency domain strain from given time domain strain.\n",
      "16:07 bilby INFO    : Applying a tukey window with alpha=0.1, roll off=0.2\n",
      "16:07 bilby INFO    : Generating frequency domain strain from given time domain strain.\n",
      "16:07 bilby INFO    : Applying a tukey window with alpha=0.1, roll off=0.2\n",
      "16:07 bilby INFO    : Single likelihood evaluation took 8.492e-03 s\n"
     ]
    },
    {
     "data": {
      "application/vnd.jupyter.widget-view+json": {
       "model_id": "d2bae649979d4c5cb19279f80cf7bdc3",
       "version_major": 2,
       "version_minor": 0
      },
      "text/plain": [
       "0it [00:00, ?it/s]"
      ]
     },
     "metadata": {},
     "output_type": "display_data"
    },
    {
     "name": "stderr",
     "output_type": "stream",
     "text": [
      "16:07 bilby INFO    : Using sampler Dynesty with kwargs {'bound': 'multi', 'sample': 'rwalk', 'verbose': True, 'periodic': None, 'reflective': None, 'check_point_delta_t': 1800, 'nlive': 1000, 'first_update': None, 'walks': 100, 'npdim': None, 'rstate': None, 'queue_size': 1, 'pool': None, 'use_pool': None, 'live_points': None, 'logl_args': None, 'logl_kwargs': None, 'ptform_args': None, 'ptform_kwargs': None, 'enlarge': 1.5, 'bootstrap': None, 'vol_dec': 0.5, 'vol_check': 8.0, 'facc': 0.2, 'slices': 5, 'update_interval': 600, 'print_func': <bound method Dynesty._print_func of <bilby.core.sampler.dynesty.Dynesty object at 0x7fc1ce822df0>>, 'dlogz': 0.1, 'maxiter': None, 'maxcall': None, 'logl_max': inf, 'add_live': True, 'print_progress': True, 'save_bounds': False, 'n_effective': None, 'maxmcmc': 5000, 'nact': 5, 'print_method': 'tqdm'}\n",
      "16:07 bilby INFO    : Checkpoint every check_point_delta_t = 600s\n",
      "16:07 bilby INFO    : Using dynesty version 1.0.1\n",
      "16:07 bilby INFO    : Using the bilby-implemented rwalk sample method with ACT estimated walks\n",
      "16:07 bilby INFO    : Resume file GW190521_minimal/GW190521_minimal_resume.pickle does not exist.\n",
      "16:07 bilby INFO    : Generating initial points from the prior\n",
      "16:17 bilby INFO    : Written checkpoint file GW190521_minimal/GW190521_minimal_resume.pickle\n",
      "16:27 bilby INFO    : Written checkpoint file GW190521_minimal/GW190521_minimal_resume.pickle\n",
      "16:37 bilby INFO    : Written checkpoint file GW190521_minimal/GW190521_minimal_resume.pickle\n",
      "16:47 bilby INFO    : Written checkpoint file GW190521_minimal/GW190521_minimal_resume.pickle\n",
      "16:58 bilby INFO    : Written checkpoint file GW190521_minimal/GW190521_minimal_resume.pickle\n",
      "17:08 bilby INFO    : Written checkpoint file GW190521_minimal/GW190521_minimal_resume.pickle\n",
      "17:14 bilby INFO    : Written checkpoint file GW190521_minimal/GW190521_minimal_resume.pickle\n"
     ]
    },
    {
     "name": "stdout",
     "output_type": "stream",
     "text": [
      "\n"
     ]
    },
    {
     "name": "stderr",
     "output_type": "stream",
     "text": [
      "17:14 bilby INFO    : Sampling time: 1:06:48.672906\n",
      "17:14 bilby INFO    : Reconstructing marginalised parameters.\n"
     ]
    },
    {
     "data": {
      "application/vnd.jupyter.widget-view+json": {
       "model_id": "9af0a94df53b4b16b69f570f816cbb64",
       "version_major": 2,
       "version_minor": 0
      },
      "text/plain": [
       "  0%|          | 0/7586 [00:00<?, ?it/s]"
      ]
     },
     "metadata": {},
     "output_type": "display_data"
    },
    {
     "name": "stderr",
     "output_type": "stream",
     "text": [
      "17:19 bilby INFO    : Generating sky frame parameters.\n"
     ]
    },
    {
     "data": {
      "application/vnd.jupyter.widget-view+json": {
       "model_id": "67e87440fb7a4625803867e8e3a47e3b",
       "version_major": 2,
       "version_minor": 0
      },
      "text/plain": [
       "  0%|          | 0/7586 [00:00<?, ?it/s]"
      ]
     },
     "metadata": {},
     "output_type": "display_data"
    },
    {
     "name": "stderr",
     "output_type": "stream",
     "text": [
      "17:19 bilby INFO    : Computing SNRs for every sample.\n"
     ]
    },
    {
     "data": {
      "application/vnd.jupyter.widget-view+json": {
       "model_id": "2b5323346b2e4ed69743196f483bf8ac",
       "version_major": 2,
       "version_minor": 0
      },
      "text/plain": [
       "  0%|          | 0/7586 [00:00<?, ?it/s]"
      ]
     },
     "metadata": {},
     "output_type": "display_data"
    },
    {
     "name": "stderr",
     "output_type": "stream",
     "text": [
      "17:20 bilby INFO    : Summary of results:\n",
      "nsamples: 7586\n",
      "ln_noise_evidence: -6392.176\n",
      "ln_evidence: -6289.936 +/-  0.081\n",
      "ln_bayes_factor: 102.240 +/-  0.081\n",
      "\n",
      "17:20 bilby INFO    : Generating waveform figure for H1\n",
      "17:20 bilby INFO    : Waveform generator initiated with\n",
      "  frequency_domain_source_model: bilby.gw.source.lal_binary_black_hole\n",
      "  time_domain_source_model: None\n",
      "  parameter_conversion: bilby.gw.conversion.convert_to_lal_binary_black_hole_parameters\n",
      "17:20 bilby INFO    : Generating waveform figure for L1\n",
      "17:20 bilby INFO    : Waveform generator initiated with\n",
      "  frequency_domain_source_model: bilby.gw.source.lal_binary_black_hole\n",
      "  time_domain_source_model: None\n",
      "  parameter_conversion: bilby.gw.conversion.convert_to_lal_binary_black_hole_parameters\n",
      "17:20 bilby INFO    : Generating waveform figure for V1\n",
      "17:20 bilby INFO    : Waveform generator initiated with\n",
      "  frequency_domain_source_model: bilby.gw.source.lal_binary_black_hole\n",
      "  time_domain_source_model: None\n",
      "  parameter_conversion: bilby.gw.conversion.convert_to_lal_binary_black_hole_parameters\n"
     ]
    }
   ],
   "source": [
    "outdir = \"GW190521_minimal\"\n",
    "label = \"GW190521_minimal\"\n",
    "bilby.core.utils.check_directory_exists_and_if_not_mkdir(outdir)\n",
    "\n",
    "result = bilby.run_sampler(\n",
    "    likelihood=likelihood, priors=priors,\n",
    "    outdir=outdir, label=label,\n",
    "    sampler=\"dynesty\", nlive=1000, check_point_delta_t=600, \n",
    "    check_point_plot=True, npool=1,\n",
    "    conversion_function=bilby.gw.conversion.generate_all_bbh_parameters,\n",
    "    result_class=bilby.gw.result.CBCResult)\n",
    "\n",
    "# Output plots\n",
    "result.plot_corner([\"chirp_mass\", \"mass_ratio\"])\n",
    "result.plot_waveform_posterior(interferometers=ifo_list)"
   ]
  },
  {
   "cell_type": "code",
   "execution_count": null,
   "id": "d2f668d5",
   "metadata": {},
   "outputs": [],
   "source": []
  }
 ],
 "metadata": {
  "kernelspec": {
   "display_name": "Python 3 (ipykernel)",
   "language": "python",
   "name": "python3"
  },
  "language_info": {
   "codemirror_mode": {
    "name": "ipython",
    "version": 3
   },
   "file_extension": ".py",
   "mimetype": "text/x-python",
   "name": "python",
   "nbconvert_exporter": "python",
   "pygments_lexer": "ipython3",
   "version": "3.9.7"
  }
 },
 "nbformat": 4,
 "nbformat_minor": 5
}
